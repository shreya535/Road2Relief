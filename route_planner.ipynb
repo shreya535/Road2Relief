{
 "cells": [
  {
   "cell_type": "code",
   "execution_count": 2,
   "id": "f9b78bf3-acc8-481a-b1a9-df3f4758c753",
   "metadata": {},
   "outputs": [
    {
     "name": "stdout",
     "output_type": "stream",
     "text": [
      "Best Route using Dijkstra: ['A', 'C', 'D', 'E']\n",
      "Best Route using A*: ['A', 'C', 'D', 'E']\n"
     ]
    },
    {
     "data": {
      "text/plain": [
       "['A', 'C', 'D', 'E']"
      ]
     },
     "execution_count": 2,
     "metadata": {},
     "output_type": "execute_result"
    }
   ],
   "source": [
    "import networkx as nx\n",
    "import math\n",
    "\n",
    "# Coordinates (required only for A*)\n",
    "positions = {\n",
    "    \"A\": (0, 0),\n",
    "    \"B\": (1, 0),\n",
    "    \"C\": (0, 1),\n",
    "    \"D\": (1, 1),\n",
    "    \"E\": (2, 1),\n",
    "}\n",
    "\n",
    "# Sample road network\n",
    "edges = [\n",
    "    (\"A\", \"B\", 5),\n",
    "    (\"A\", \"C\", 10),\n",
    "    (\"B\", \"D\", 7),\n",
    "    (\"C\", \"D\", 3),\n",
    "    (\"D\", \"E\", 4),\n",
    "]\n",
    "\n",
    "# Road conditions from CNN + LSTM (example)\n",
    "road_conditions = {\n",
    "    (\"A\", \"B\"): {\"status\": \"NotBlocked\", \"traffic\": 300},\n",
    "    (\"A\", \"C\"): {\"status\": \"NotBlocked\", \"traffic\": 600},\n",
    "    (\"B\", \"D\"): {\"status\": \"Blocked\", \"traffic\": 200},  # Blocked\n",
    "    (\"C\", \"D\"): {\"status\": \"NotBlocked\", \"traffic\": 100},\n",
    "    (\"D\", \"E\"): {\"status\": \"NotBlocked\", \"traffic\": 450},\n",
    "}\n",
    "\n",
    "traffic_threshold = 500\n",
    "\n",
    "\n",
    "# Heuristic function for A* (Euclidean)\n",
    "def euclidean_heuristic(n1, n2):\n",
    "    x1, y1 = positions[n1]\n",
    "    x2, y2 = positions[n2]\n",
    "    return math.sqrt((x1 - x2)**2 + (y1 - y2)**2)\n",
    "\n",
    "\n",
    "# Main function\n",
    "def get_best_route(source, target, use_astar=False):\n",
    "    G = nx.Graph()\n",
    "\n",
    "    # Add edges with initial weights\n",
    "    for u, v, base_weight in edges:\n",
    "        # Get road condition\n",
    "        info = road_conditions.get((u, v)) or road_conditions.get((v, u)) or {}\n",
    "        status = info.get(\"status\", \"NotBlocked\")\n",
    "        traffic = info.get(\"traffic\", 0)\n",
    "\n",
    "        # Adjust weight based on CNN + LSTM\n",
    "        if status == \"Blocked\":\n",
    "            weight = float('inf')  # Blocked = avoid\n",
    "        elif traffic > traffic_threshold:\n",
    "            weight = base_weight * 2  # High traffic = penalize\n",
    "        else:\n",
    "            weight = base_weight\n",
    "\n",
    "        G.add_edge(u, v, weight=weight)\n",
    "\n",
    "    # Use selected algorithm\n",
    "    try:\n",
    "        if use_astar:\n",
    "            path = nx.astar_path(G, source, target, heuristic=euclidean_heuristic, weight='weight')\n",
    "            algo = \"A*\"\n",
    "        else:\n",
    "            path = nx.dijkstra_path(G, source, target, weight='weight')\n",
    "            algo = \"Dijkstra\"\n",
    "        print(f\"Best Route using {algo}: {path}\")\n",
    "        return path\n",
    "    except nx.NetworkXNoPath:\n",
    "        print(\" No available route due to blocked roads.\")\n",
    "        return None\n",
    "\n",
    "\n",
    "# 🔹 Example usage\n",
    "get_best_route(\"A\", \"E\", use_astar=False)  # Dijkstra\n",
    "get_best_route(\"A\", \"E\", use_astar=True)   # A*\n"
   ]
  },
  {
   "cell_type": "code",
   "execution_count": 4,
   "id": "8cec0eaa-bf34-4f22-9533-8123f5e8b1bc",
   "metadata": {},
   "outputs": [],
   "source": [
    "road_conditions = {\n",
    "    ('A', 'B'): {'status': 'Blocked', 'traffic': 600},\n",
    "    ('A', 'C'): {'status': 'NotBlocked', 'traffic': 200},\n",
    "    ('C', 'D'): {'status': 'NotBlocked', 'traffic': 300},\n",
    "    ('D', 'E'): {'status': 'NotBlocked', 'traffic': 400},\n",
    "}\n",
    "\n",
    "# Apply logic\n",
    "G = nx.Graph()\n",
    "for (u, v), cond in road_conditions.items():\n",
    "    if cond['status'] == 'Blocked':\n",
    "        continue  # or G.add_edge(u, v, weight=9999)\n",
    "    else:\n",
    "        traffic = cond['traffic']\n",
    "        traffic_weight = 1 + (traffic / 1000)  # normalize\n",
    "        G.add_edge(u, v, weight=traffic_weight)\n"
   ]
  },
  {
   "cell_type": "code",
   "execution_count": 5,
   "id": "15d45637-210b-4a61-8438-5d82fb281bac",
   "metadata": {},
   "outputs": [
    {
     "name": "stdout",
     "output_type": "stream",
     "text": [
      "Best Route using Dijkstra: ['A', 'C', 'D', 'E']\n",
      "Best Route using A*: ['A', 'C', 'D', 'E']\n"
     ]
    }
   ],
   "source": [
    "import networkx as nx\n",
    "\n",
    "# Run Dijkstra or A* on this graph G\n",
    "start, end = 'A', 'E'\n",
    "dijkstra_path = nx.dijkstra_path(G, start, end)\n",
    "print(\"Best Route using Dijkstra:\", dijkstra_path)\n",
    "\n",
    "# Optionally, with heuristics for A*\n",
    "def heuristic(u, v):\n",
    "    return 0  # placeholder; replace with Euclidean if you have coordinates\n",
    "\n",
    "a_star_path = nx.astar_path(G, start, end, heuristic=heuristic)\n",
    "print(\"Best Route using A*:\", a_star_path)"
   ]
  },
  {
   "cell_type": "code",
   "execution_count": 7,
   "id": "13914814-75a4-4f22-92ab-901dafd2ae4a",
   "metadata": {},
   "outputs": [
    {
     "data": {
      "image/png": "[encoded data removed]",
      "text/plain": [
       "<Figure size 640x480 with 1 Axes>"
      ]
     },
     "metadata": {},
     "output_type": "display_data"
    }
   ],
   "source": [
    "import networkx as nx\n",
    "import matplotlib.pyplot as plt\n",
    "\n",
    "road_conditions = {\n",
    "    ('A', 'B'): {'status': 'Blocked', 'traffic': 600},\n",
    "    ('A', 'C'): {'status': 'NotBlocked', 'traffic': 200},\n",
    "    ('C', 'D'): {'status': 'NotBlocked', 'traffic': 300},\n",
    "    ('D', 'E'): {'status': 'NotBlocked', 'traffic': 400},\n",
    "}\n",
    "\n",
    "G = nx.Graph()\n",
    "blocked_edges = []\n",
    "\n",
    "# First add all nodes (avoid KeyError later)\n",
    "nodes = set()\n",
    "for (u, v) in road_conditions:\n",
    "    nodes.add(u)\n",
    "    nodes.add(v)\n",
    "G.add_nodes_from(nodes)\n",
    "\n",
    "# Now add edges (skipping blocked ones, but storing for drawing)\n",
    "for (u, v), cond in road_conditions.items():\n",
    "    if cond['status'] == 'Blocked':\n",
    "        blocked_edges.append((u, v))\n",
    "    else:\n",
    "        traffic_weight = 1 + (cond['traffic'] / 1000)\n",
    "        G.add_edge(u, v, weight=traffic_weight)\n",
    "\n",
    "# Positions\n",
    "pos = nx.spring_layout(G, seed=42)\n",
    "\n",
    "# Draw graph\n",
    "nx.draw(G, pos, with_labels=True, node_color='lightblue', node_size=1500, edge_color='gray', font_size=12)\n",
    "\n",
    "# Draw edge weights\n",
    "edge_labels = nx.get_edge_attributes(G, 'weight')\n",
    "edge_labels = {edge: f\"{weight:.2f}\" for edge, weight in edge_labels.items()}\n",
    "nx.draw_networkx_edge_labels(G, pos, edge_labels=edge_labels)\n",
    "\n",
    "# Draw blocked edges as red dashed lines\n",
    "nx.draw_networkx_edges(G, pos, edgelist=blocked_edges, edge_color='red', style='dashed', width=2)\n",
    "\n",
    "plt.title(\"Road Network with Traffic Weights and Blocked Roads\")\n",
    "plt.axis('off')\n",
    "plt.show()\n",
    "#All nodes (A, B, C, D, E)\n",
    "\n",
    "#Gray edges with traffic-based weights\n",
    "\n",
    "#Red dashed edge for ('A', 'B'), marked as blocked"
   ]
  },
  {
   "cell_type": "code",
   "execution_count": null,
   "id": "c76498ad-54f5-40fb-8b78-6d41d3094604",
   "metadata": {},
   "outputs": [],
   "source": []
  }
 ],
 "metadata": {
  "kernelspec": {
   "display_name": "Python (TensorFlow)",
   "language": "python",
   "name": "tf-env"
  },
  "language_info": {
   "codemirror_mode": {
    "name": "ipython",
    "version": 3
   },
   "file_extension": ".py",
   "mimetype": "text/x-python",
   "name": "python",
   "nbconvert_exporter": "python",
   "pygments_lexer": "ipython3",
   "version": "3.12.10"
  }
 },
 "nbformat": 4,
 "nbformat_minor": 5
}
