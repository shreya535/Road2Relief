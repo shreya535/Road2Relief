{
 "cells": [
  {
   "cell_type": "code",
   "execution_count": 8,
   "id": "43d23231-c906-4733-ac28-aa25e36e2e8f",
   "metadata": {},
   "outputs": [
    {
     "name": "stdout",
     "output_type": "stream",
     "text": [
      "relief_regions.xlsx created with filtered cities (Dehradun, Haridwar)!\n"
     ]
    }
   ],
   "source": [
    "import pandas as pd\n",
    "\n",
    "# Read the Excel file (make sure the filename is correct)\n",
    "df = pd.read_excel(r'D:\\jupyter_nbk_project\\disaster_relief_ai\\output_with_risk_scores.xlsx')\n",
    "\n",
    "\n",
    "# Filter for only Dehradun and Haridwar locations\n",
    "relief_regions = df[df['Location'].isin(['Dehradun', 'Haridwar'])]\n",
    "\n",
    "# Save filtered data to a new Excel file\n",
    "relief_regions.to_excel('relief_regions.xlsx', index=False)\n",
    "\n",
    "print(\"relief_regions.xlsx created with filtered cities (Dehradun, Haridwar)!\")"
   ]
  },
  {
   "cell_type": "code",
   "execution_count": 9,
   "id": "c5584b5b-3eb4-4064-8516-868c8c542b39",
   "metadata": {},
   "outputs": [
    {
     "name": "stderr",
     "output_type": "stream",
     "text": [
      "C:\\Users\\shrey\\AppData\\Local\\Programs\\Python\\Python312\\Lib\\site-packages\\osmnx\\_overpass.py:267: UserWarning: This area is 25 times your configured Overpass max query area size. It will automatically be divided up into multiple sub-queries accordingly. This may take a long time.\n",
      "  multi_poly_proj = utils_geo._consolidate_subdivide_geometry(poly_proj)\n"
     ]
    }
   ],
   "source": [
    "import osmnx as ox\n",
    "\n",
    "# Step 1 & 2: Download & save once (run this separately, not every time in Streamlit)\n",
    "G = ox.graph_from_place('Uttarakhand, India', network_type='drive')\n",
    "ox.save_graphml(G, 'uttarakhand.graphml')"
   ]
  },
  {
   "cell_type": "code",
   "execution_count": 2,
   "id": "abbf03dd-0d81-4419-9e91-a1f922b86381",
   "metadata": {},
   "outputs": [
    {
     "data": {
      "text/plain": [
       "['453350643', '453350707', '453350726', '453350774', '453350830']"
      ]
     },
     "execution_count": 2,
     "metadata": {},
     "output_type": "execute_result"
    }
   ],
   "source": [
    "import networkx as nx\n",
    "\n",
    "# Load the graph\n",
    "G = nx.read_graphml(\"D:/jupyter_nbk_project/disaster_relief_ai/uttarakhand.graphml\")\n",
    "\n",
    "# Show the first 5 nodes\n",
    "list(G.nodes())[:5]"
   ]
  },
  {
   "cell_type": "code",
   "execution_count": 3,
   "id": "ca677455-0fe2-464d-b275-8318ecad15db",
   "metadata": {},
   "outputs": [
    {
     "data": {
      "text/plain": [
       "[('453350643', {'y': '28.9348919', 'x': '79.9191165', 'street_count': '3'}),\n",
       " ('453350707', {'y': '28.91989', 'x': '79.9698825', 'street_count': '3'}),\n",
       " ('453350726', {'y': '28.882836', 'x': '79.6813534', 'street_count': '3'}),\n",
       " ('453350774', {'y': '28.8753686', 'x': '79.6596877', 'street_count': '3'}),\n",
       " ('453350830', {'y': '28.8855953', 'x': '79.6829181', 'street_count': '3'})]"
      ]
     },
     "execution_count": 3,
     "metadata": {},
     "output_type": "execute_result"
    }
   ],
   "source": [
    "# Show sample node data\n",
    "list(G.nodes(data=True))[:5]\n"
   ]
  },
  {
   "cell_type": "code",
   "execution_count": null,
   "id": "c5612a8a-0bf9-413f-b24d-1deb0e1bbfc6",
   "metadata": {},
   "outputs": [],
   "source": []
  }
 ],
 "metadata": {
  "kernelspec": {
   "display_name": "Python (TensorFlow)",
   "language": "python",
   "name": "tf-env"
  },
  "language_info": {
   "codemirror_mode": {
    "name": "ipython",
    "version": 3
   },
   "file_extension": ".py",
   "mimetype": "text/x-python",
   "name": "python",
   "nbconvert_exporter": "python",
   "pygments_lexer": "ipython3",
   "version": "3.12.10"
  }
 },
 "nbformat": 4,
 "nbformat_minor": 5
}
